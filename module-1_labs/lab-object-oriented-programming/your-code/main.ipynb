{
 "cells": [
  {
   "cell_type": "markdown",
   "metadata": {},
   "source": [
    "# Before your start:\n",
    "- Read the README.md file\n",
    "- Comment as much as you can and use the resources in the README.md file\n",
    "- Happy learning!"
   ]
  },
  {
   "cell_type": "markdown",
   "metadata": {},
   "source": [
    "# Challenge 1 - Matrix Functions\n",
    "\n",
    "#### We would like to create our own matrix. To make life simple for us, we can represent matrices as a list of lists. For the sake of simplicity, we will assume that the maximum number of dimensions a matrix will have is 2.\n",
    "\n",
    "The most basic thing we would like to do with two matrices is to add them together. To add two matrices, we must perform a number of checks. The first check we would like to perform is whether the matrix is two dimesional. This is because we want to limit ourselves to two dimensional matrices to simplify our problem. In the cell below write a function that checks is a matrix is two dimesional. "
   ]
  },
  {
   "cell_type": "code",
   "execution_count": 71,
   "metadata": {},
   "outputs": [],
   "source": [
    "def twodim(mat):\n",
    "    # This function takes a list of lists and checks that it is of depth 2. \n",
    "    # If the depth is not 2, either return false or return informative errors that let the user know the depth of the list.\n",
    "    # Input: nested list\n",
    "    # Output: Boolean (or error)\n",
    "    # Sample Input: [[1,2,3], [4,5,6]]\n",
    "    # Sample Output: True\n",
    "    \n",
    "    # Your Code Here:\n",
    "    if isinstance(mat, list) and not isinstance(mat[0], list):\n",
    "        print(\"This is an one dimensional list.\")\n",
    "        return False\n",
    "    elif isinstance(mat[0], list) and not isinstance(mat[0][0], list):\n",
    "        return True\n",
    "    elif isinstance(mat[0], list) and isinstance(mat[0][0], list):\n",
    "        print(\"This is a multi dimensional matrix with at least three dimensions.\")\n",
    "        return False\n",
    "    \n",
    "    "
   ]
  },
  {
   "cell_type": "code",
   "execution_count": 72,
   "metadata": {},
   "outputs": [
    {
     "data": {
      "text/plain": [
       "True"
      ]
     },
     "execution_count": 72,
     "metadata": {},
     "output_type": "execute_result"
    }
   ],
   "source": [
    "twodim([[1,2], [1,2,3],[1,2,3]])"
   ]
  },
  {
   "cell_type": "markdown",
   "metadata": {},
   "source": [
    "# Bonus Challenge 1 - Write the function recursively\n",
    "\n",
    "Rewrite the `twodim` function using recursion. \n",
    "Read more about recursion [here](https://www.cs.utah.edu/~germain/PPS/Topics/recursion.html)\n",
    "\n",
    "Hint: stop your recursion when there are no more lists, this wil be the depth of your matrix. Check that this depth is equal to 2.\n",
    "Second Hint: At every level of the recursion, use the filter function to keep only the members of the list that are lists."
   ]
  },
  {
   "cell_type": "code",
   "execution_count": 73,
   "metadata": {},
   "outputs": [
    {
     "ename": "SyntaxError",
     "evalue": "unexpected EOF while parsing (<ipython-input-73-d32dbdcdec0e>, line 3)",
     "output_type": "error",
     "traceback": [
      "\u001b[0;36m  File \u001b[0;32m\"<ipython-input-73-d32dbdcdec0e>\"\u001b[0;36m, line \u001b[0;32m3\u001b[0m\n\u001b[0;31m    \u001b[0m\n\u001b[0m    ^\u001b[0m\n\u001b[0;31mSyntaxError\u001b[0m\u001b[0;31m:\u001b[0m unexpected EOF while parsing\n"
     ]
    }
   ],
   "source": [
    "def twodimrecursive(mat):\n",
    "    # Your code here:\n",
    "    "
   ]
  },
  {
   "cell_type": "code",
   "execution_count": null,
   "metadata": {},
   "outputs": [],
   "source": [
    "twodimrecursive([[1,2,3],[1,2]])"
   ]
  },
  {
   "cell_type": "markdown",
   "metadata": {},
   "source": [
    "#### Next, we will write a function that checks for the number of rows and columns of a matrix. \n",
    "\n",
    "Recall that the outer list will tell us the number of rows and the inner lists will tell us the number of columns. Make sure that all inner lists are of the same length."
   ]
  },
  {
   "cell_type": "code",
   "execution_count": null,
   "metadata": {},
   "outputs": [],
   "source": [
    "def row_column(mat):\n",
    "    # This function takes a list of lists and returns the size of the rows and the columns \n",
    "    # Input: list of lists\n",
    "    # Output: Tuple of rows and columns\n",
    "    #\n",
    "    # Sample input: [[1,2,3],[4,5,6]]\n",
    "    # Sample Output: (2, 3)\n",
    "    \n",
    "    # Your code here:\n",
    "    if type(mat) != list:\n",
    "        print(\"This is not a list object.\")\n",
    "        return False\n",
    "    \n",
    "    column_count = len(mat)\n",
    "    row_count = 0\n",
    "    \n",
    "    row_length = []\n",
    "    \n",
    "    for row in mat:\n",
    "        row_length.append(len(row))\n",
    "    \n",
    "    for length in row_length:\n",
    "        if length == row_length[0]:\n",
    "            row_count = len(row)\n",
    "        else:\n",
    "            print(\"Sorry, this isn't a symmetrical matrix. We can't calculate the row count.\")\n",
    "            return False\n",
    "            \n",
    "    return (column_count, row_count)"
   ]
  },
  {
   "cell_type": "code",
   "execution_count": null,
   "metadata": {},
   "outputs": [],
   "source": [
    "row_column([[1,2,3,4], [1,2,3,4], [1,2,3,4]])"
   ]
  },
  {
   "cell_type": "markdown",
   "metadata": {},
   "source": [
    "#### Our next step is to write a function that compares two matrices and tells us whether they are of equal size.\n",
    "\n",
    "In this function we will check whether the number of rows and number of columns is the same."
   ]
  },
  {
   "cell_type": "code",
   "execution_count": null,
   "metadata": {},
   "outputs": [],
   "source": [
    "def compare_dimension(mat1, mat2):\n",
    "    # This function takes a two lists of lists and checks whether they have the same number of rows and columns\n",
    "    # Input: two list of lists\n",
    "    # Output: True or False\n",
    "    #\n",
    "    # Sample input: [[1,2,3],[4,5,6]], [[7,8,9], [10,11,12]]\n",
    "    # Sample Output: True\n",
    "    \n",
    "    # Your code here:\n",
    "    if row_column(mat1) == row_column(mat2):\n",
    "        return True\n",
    "    \n",
    "    return False"
   ]
  },
  {
   "cell_type": "code",
   "execution_count": null,
   "metadata": {},
   "outputs": [],
   "source": [
    "compare_dimension([[1,2,3],[4,5,6]], [[7,8,9], [10,11,12]])"
   ]
  },
  {
   "cell_type": "markdown",
   "metadata": {},
   "source": [
    "#### Now that we have all the tools we need, write a function that adds two matrices together. \n",
    "\n",
    "Remember that a matrix is represented as a list of lists. Therefore, we must add each element in the list. The plus symbol is used for concatenating two lists and not for adding every element in two lists."
   ]
  },
  {
   "cell_type": "code",
   "execution_count": 77,
   "metadata": {},
   "outputs": [],
   "source": [
    "def addition(mat1, mat2):\n",
    "    # This function takes a two lists of lists and adds each cell together\n",
    "    # Input: two list of lists\n",
    "    # Output: one summed list of lists\n",
    "    #\n",
    "    # Sample input: [[1,2,3],[4,5,6]], [[7,8,9], [10,11,12]]\n",
    "    # Sample Output: [[8,10,12],[14,16,18]]\n",
    "\n",
    "    # Your code here:\n",
    "    if not twodim(mat1) and twodim(mat2):\n",
    "        print(\"These matrixes are not two dimensional.\")\n",
    "        return False\n",
    "    \n",
    "    if not compare_dimension(mat1, mat2):\n",
    "        print(\"These matrixes don't have the same dimensions.\")\n",
    "        return False\n",
    "    \n",
    "    # since the matrixes do share dimensions we only need to get the dimensions of one of them\n",
    "    dimensions = row_column(mat1)\n",
    "    \n",
    "    combined_matrixes = []\n",
    "    \n",
    "    for i in range(dimensions[0]):\n",
    "        combined_column = []\n",
    "        for j in range(dimensions[1]):\n",
    "            combined_column.append(mat1[i][j] + mat2[i][j])\n",
    "        combined_matrixes.append(combined_column)\n",
    "        \n",
    "    return combined_matrixes"
   ]
  },
  {
   "cell_type": "code",
   "execution_count": 78,
   "metadata": {},
   "outputs": [
    {
     "data": {
      "text/plain": [
       "[[8, 10, 12], [14, 16, 18]]"
      ]
     },
     "execution_count": 78,
     "metadata": {},
     "output_type": "execute_result"
    }
   ],
   "source": [
    "addition([[1,2,3],[4,5,6]], [[7,8,9], [10,11,12]])"
   ]
  },
  {
   "cell_type": "markdown",
   "metadata": {},
   "source": [
    "# Challenge 2 - Creating the Class\n",
    "\n",
    "In the cell below, you will be creating the class Matrix2D. Use the functions you have written above and tweak them according to the instructions in the comments. You got this!"
   ]
  },
  {
   "cell_type": "code",
   "execution_count": 87,
   "metadata": {},
   "outputs": [],
   "source": [
    "class Matrix2D:\n",
    "    \n",
    "    def __init__(self, mat):\n",
    "        self.mat = mat\n",
    "        self.rows = self.row_column(self.mat)[1]\n",
    "        self.columns = self.row_column(self.mat)[0]\n",
    "        \n",
    "    def twodim(self, mat):\n",
    "        if isinstance(mat, list) and not isinstance(mat[0], list):\n",
    "            print(\"This is an one dimensional list.\")\n",
    "            return False\n",
    "        elif isinstance(mat[0], list) and not isinstance(mat[0][0], list):\n",
    "            return True\n",
    "        elif isinstance(mat[0], list) and isinstance(mat[0][0], list):\n",
    "            print(\"This is a multi dimensional matrix with at least three dimensions.\")\n",
    "            return False \n",
    "    \n",
    "    # Your code here:\n",
    "    def row_column(self, mat):\n",
    "        if type(mat) != list or self.twodim(mat) != True:\n",
    "            print(\"This is not a two dimensional list object.\")\n",
    "            return False\n",
    "\n",
    "        column_count = len(mat)\n",
    "        row_count = 0\n",
    "\n",
    "        row_length = []\n",
    "\n",
    "        for row in mat:\n",
    "            row_length.append(len(row))\n",
    "\n",
    "        for length in row_length:\n",
    "            if length == row_length[0]:\n",
    "                row_count = len(row)\n",
    "            else:\n",
    "                print(\"Sorry, this isn't a symmetrical matrix. We can't calculate the row count.\")\n",
    "                return False\n",
    "\n",
    "        return (column_count, row_count)\n",
    "    \n",
    "    def compare_dimension(self, mat1, mat2):\n",
    "        if row_column(mat1) == row_column(mat2):\n",
    "            return True\n",
    "\n",
    "        return False\n",
    "\n",
    "    def addition(self, matrix):\n",
    "        if not self.twodim(self.mat) and self.twodim(matrix.mat):\n",
    "            print(\"These matrixes are not two dimensional.\")\n",
    "            return False\n",
    "\n",
    "        if not self.compare_dimension(self.mat, matrix.mat):\n",
    "            print(\"These matrixes don't have the same dimensions.\")\n",
    "            return False\n",
    "\n",
    "        # since the matrixes do share dimensions we only need to get the dimensions of one of them\n",
    "        dimensions = self.row_column(self.mat)\n",
    "\n",
    "        combined_matrixes = []\n",
    "\n",
    "        for i in range(dimensions[0]):\n",
    "            combined_column = []\n",
    "            for j in range(dimensions[1]):\n",
    "                combined_column.append(self.mat[i][j] + matrix.mat[i][j])\n",
    "            combined_matrixes.append(combined_column)\n",
    "\n",
    "        return Matrix2D(combined_matrixes)\n"
   ]
  },
  {
   "cell_type": "code",
   "execution_count": null,
   "metadata": {},
   "outputs": [],
   "source": []
  },
  {
   "cell_type": "code",
   "execution_count": 88,
   "metadata": {
    "scrolled": true
   },
   "outputs": [
    {
     "data": {
      "text/plain": [
       "[[8, 10, 12], [14, 16, 18]]"
      ]
     },
     "execution_count": 88,
     "metadata": {},
     "output_type": "execute_result"
    }
   ],
   "source": [
    "Matrix2D([[1,2,3],[4,5,6]]).addition(Matrix2D([[7,8,9],[10,11,12]])).mat"
   ]
  },
  {
   "cell_type": "markdown",
   "metadata": {},
   "source": [
    "# Bonus Challenge 2 - Transpose Function\n",
    "\n",
    "#### Write a function that transposes the matrix and add it to your class.\n",
    "\n",
    "You can read more about the transpose of a matrix [here](https://en.wikipedia.org/wiki/Transpose).\n",
    "\n",
    "Hint: Use the zip function. Read about it [here](https://docs.python.org/3.3/library/functions.html#zip)\n",
    "\n",
    "Second Hint: Read about the asterisk in Python [here](https://docs.python.org/3/reference/expressions.html#expression-lists)"
   ]
  },
  {
   "cell_type": "code",
   "execution_count": 108,
   "metadata": {},
   "outputs": [
    {
     "data": {
      "text/plain": [
       "array([[1, 4],\n",
       "       [2, 5],\n",
       "       [3, 6]])"
      ]
     },
     "execution_count": 108,
     "metadata": {},
     "output_type": "execute_result"
    }
   ],
   "source": [
    "def transpose(mat):\n",
    "    # This function takes a list of lists and returns a transposed list of lists.\n",
    "    # Input: list of lists\n",
    "    # Output: list of lists\n",
    "    \n",
    "    # Sample Input: [[1,2,3],[4,5,6]]\n",
    "    # Sample Output: [[1,4], [2,5], [3,6]]\n",
    "    \n",
    "    # Your code here:\n",
    "    import numpy as np\n",
    "    \n",
    "    matrix = np.array(mat)\n",
    "    #print(matrix)\n",
    "    return matrix.transpose()\n",
    "    \n",
    "transpose([[1,2,3],[4,5,6]])"
   ]
  },
  {
   "cell_type": "code",
   "execution_count": 109,
   "metadata": {},
   "outputs": [
    {
     "data": {
      "text/plain": [
       "array([[1, 4],\n",
       "       [2, 5],\n",
       "       [3, 6]])"
      ]
     },
     "execution_count": 109,
     "metadata": {},
     "output_type": "execute_result"
    }
   ],
   "source": [
    "transpose([[1,2,3],[4,5,6]])"
   ]
  },
  {
   "cell_type": "code",
   "execution_count": null,
   "metadata": {},
   "outputs": [],
   "source": []
  },
  {
   "cell_type": "code",
   "execution_count": null,
   "metadata": {},
   "outputs": [],
   "source": []
  }
 ],
 "metadata": {
  "kernelspec": {
   "display_name": "Python 3",
   "language": "python",
   "name": "python3"
  },
  "language_info": {
   "codemirror_mode": {
    "name": "ipython",
    "version": 3
   },
   "file_extension": ".py",
   "mimetype": "text/x-python",
   "name": "python",
   "nbconvert_exporter": "python",
   "pygments_lexer": "ipython3",
   "version": "3.7.3"
  }
 },
 "nbformat": 4,
 "nbformat_minor": 2
}
